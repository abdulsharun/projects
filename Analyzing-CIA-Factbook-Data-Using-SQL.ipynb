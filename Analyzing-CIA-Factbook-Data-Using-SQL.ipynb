{
 "cells": [
  {
   "cell_type": "markdown",
   "metadata": {},
   "source": [
    "## Introduction\n",
    "\n",
    "The [CIA factbook](https://www.cia.gov/the-world-factbook/), also known as the World Factbook, is an annual publication of the US Central Intelligence Agency. It provides basic intelligence by summarizing information about countries and regions worldwide. The factbook contains a mix of demographic and geographic data, among many more.\n",
    "\n",
    "This project is aimed at exploring the SQLite `factbook.db` database and analyzing the data based on demographic indicators like population, mortality, and fertility.\n",
    "\n",
    "Let's use the following code to connect our Jupyter Notebook to the database file."
   ]
  },
  {
   "cell_type": "code",
   "execution_count": 1,
   "metadata": {
    "collapsed": false
   },
   "outputs": [
    {
     "data": {
      "text/plain": [
       "'Connected: None@factbook.db'"
      ]
     },
     "execution_count": 1,
     "metadata": {},
     "output_type": "execute_result"
    }
   ],
   "source": [
    "%%capture\n",
    "%load_ext sql\n",
    "%sql sqlite:///factbook.db"
   ]
  },
  {
   "cell_type": "markdown",
   "metadata": {},
   "source": [
    "### Overview of the Data\n",
    "\n",
    "Let's start by exploring the data to understand its content."
   ]
  },
  {
   "cell_type": "code",
   "execution_count": 2,
   "metadata": {
    "collapsed": false
   },
   "outputs": [
    {
     "name": "stdout",
     "output_type": "stream",
     "text": [
      "Done.\n"
     ]
    },
    {
     "data": {
      "text/html": [
       "<table>\n",
       "    <tr>\n",
       "        <th>type</th>\n",
       "        <th>name</th>\n",
       "        <th>tbl_name</th>\n",
       "        <th>rootpage</th>\n",
       "        <th>sql</th>\n",
       "    </tr>\n",
       "    <tr>\n",
       "        <td>table</td>\n",
       "        <td>sqlite_sequence</td>\n",
       "        <td>sqlite_sequence</td>\n",
       "        <td>3</td>\n",
       "        <td>CREATE TABLE sqlite_sequence(name,seq)</td>\n",
       "    </tr>\n",
       "    <tr>\n",
       "        <td>table</td>\n",
       "        <td>facts</td>\n",
       "        <td>facts</td>\n",
       "        <td>47</td>\n",
       "        <td>CREATE TABLE &quot;facts&quot; (&quot;id&quot; INTEGER PRIMARY KEY AUTOINCREMENT NOT NULL, &quot;code&quot; varchar(255) NOT NULL, &quot;name&quot; varchar(255) NOT NULL, &quot;area&quot; integer, &quot;area_land&quot; integer, &quot;area_water&quot; integer, &quot;population&quot; integer, &quot;population_growth&quot; float, &quot;birth_rate&quot; float, &quot;death_rate&quot; float, &quot;migration_rate&quot; float)</td>\n",
       "    </tr>\n",
       "</table>"
      ],
      "text/plain": [
       "[('table', 'sqlite_sequence', 'sqlite_sequence', 3, 'CREATE TABLE sqlite_sequence(name,seq)'),\n",
       " ('table', 'facts', 'facts', 47, 'CREATE TABLE \"facts\" (\"id\" INTEGER PRIMARY KEY AUTOINCREMENT NOT NULL, \"code\" varchar(255) NOT NULL, \"name\" varchar(255) NOT NULL, \"area\" integer, \"a ... (4 characters truncated) ... land\" integer, \"area_water\" integer, \"population\" integer, \"population_growth\" float, \"birth_rate\" float, \"death_rate\" float, \"migration_rate\" float)')]"
      ]
     },
     "execution_count": 2,
     "metadata": {},
     "output_type": "execute_result"
    }
   ],
   "source": [
    "%%sql\n",
    "SELECT *\n",
    "  FROM sqlite_master\n",
    " WHERE type='table';"
   ]
  },
  {
   "cell_type": "markdown",
   "metadata": {},
   "source": [
    "We have two tables from the database. We are going to use the `'facts'` table for our analysis. \n",
    "Let's return its first 5 rows to make sense of the data it contains."
   ]
  },
  {
   "cell_type": "code",
   "execution_count": 3,
   "metadata": {
    "collapsed": false
   },
   "outputs": [
    {
     "name": "stdout",
     "output_type": "stream",
     "text": [
      "Done.\n"
     ]
    },
    {
     "data": {
      "text/html": [
       "<table>\n",
       "    <tr>\n",
       "        <th>id</th>\n",
       "        <th>code</th>\n",
       "        <th>name</th>\n",
       "        <th>area</th>\n",
       "        <th>area_land</th>\n",
       "        <th>area_water</th>\n",
       "        <th>population</th>\n",
       "        <th>population_growth</th>\n",
       "        <th>birth_rate</th>\n",
       "        <th>death_rate</th>\n",
       "        <th>migration_rate</th>\n",
       "    </tr>\n",
       "    <tr>\n",
       "        <td>1</td>\n",
       "        <td>af</td>\n",
       "        <td>Afghanistan</td>\n",
       "        <td>652230</td>\n",
       "        <td>652230</td>\n",
       "        <td>0</td>\n",
       "        <td>32564342</td>\n",
       "        <td>2.32</td>\n",
       "        <td>38.57</td>\n",
       "        <td>13.89</td>\n",
       "        <td>1.51</td>\n",
       "    </tr>\n",
       "    <tr>\n",
       "        <td>2</td>\n",
       "        <td>al</td>\n",
       "        <td>Albania</td>\n",
       "        <td>28748</td>\n",
       "        <td>27398</td>\n",
       "        <td>1350</td>\n",
       "        <td>3029278</td>\n",
       "        <td>0.3</td>\n",
       "        <td>12.92</td>\n",
       "        <td>6.58</td>\n",
       "        <td>3.3</td>\n",
       "    </tr>\n",
       "    <tr>\n",
       "        <td>3</td>\n",
       "        <td>ag</td>\n",
       "        <td>Algeria</td>\n",
       "        <td>2381741</td>\n",
       "        <td>2381741</td>\n",
       "        <td>0</td>\n",
       "        <td>39542166</td>\n",
       "        <td>1.84</td>\n",
       "        <td>23.67</td>\n",
       "        <td>4.31</td>\n",
       "        <td>0.92</td>\n",
       "    </tr>\n",
       "    <tr>\n",
       "        <td>4</td>\n",
       "        <td>an</td>\n",
       "        <td>Andorra</td>\n",
       "        <td>468</td>\n",
       "        <td>468</td>\n",
       "        <td>0</td>\n",
       "        <td>85580</td>\n",
       "        <td>0.12</td>\n",
       "        <td>8.13</td>\n",
       "        <td>6.96</td>\n",
       "        <td>0.0</td>\n",
       "    </tr>\n",
       "    <tr>\n",
       "        <td>5</td>\n",
       "        <td>ao</td>\n",
       "        <td>Angola</td>\n",
       "        <td>1246700</td>\n",
       "        <td>1246700</td>\n",
       "        <td>0</td>\n",
       "        <td>19625353</td>\n",
       "        <td>2.78</td>\n",
       "        <td>38.78</td>\n",
       "        <td>11.49</td>\n",
       "        <td>0.46</td>\n",
       "    </tr>\n",
       "</table>"
      ],
      "text/plain": [
       "[(1, 'af', 'Afghanistan', 652230, 652230, 0, 32564342, 2.32, 38.57, 13.89, 1.51),\n",
       " (2, 'al', 'Albania', 28748, 27398, 1350, 3029278, 0.3, 12.92, 6.58, 3.3),\n",
       " (3, 'ag', 'Algeria', 2381741, 2381741, 0, 39542166, 1.84, 23.67, 4.31, 0.92),\n",
       " (4, 'an', 'Andorra', 468, 468, 0, 85580, 0.12, 8.13, 6.96, 0.0),\n",
       " (5, 'ao', 'Angola', 1246700, 1246700, 0, 19625353, 2.78, 38.78, 11.49, 0.46)]"
      ]
     },
     "execution_count": 3,
     "metadata": {},
     "output_type": "execute_result"
    }
   ],
   "source": [
    "%%sql\n",
    "SELECT *\n",
    "  FROM facts\n",
    "LIMIT 5"
   ]
  },
  {
   "cell_type": "markdown",
   "metadata": {},
   "source": [
    "Here are the descriptions for some of the columns:\n",
    "\n",
    "- **`name`** — the name of the country.\n",
    "- **`area`** — the country's total area (both land and water).\n",
    "- **`area_land`** — the country's land area in square kilometers.\n",
    "- **`area_water`**— the country's waterarea in square kilometers.\n",
    "- **`population`** — the country's population.\n",
    "- **`population_growth`** — the country's population growth as a percentage.\n",
    "- **`birth_rate`** — the country's birth rate, or the number of births per year per 1,000 people.\n",
    "- **`death_rate`** — the country's death rate, or the number of death per year per 1,000 people.\n",
    "\n",
    "Let's start by calculating some summary statistics and look for any outlier countries."
   ]
  },
  {
   "cell_type": "markdown",
   "metadata": {},
   "source": [
    "## Summary Statistics"
   ]
  },
  {
   "cell_type": "code",
   "execution_count": 4,
   "metadata": {
    "collapsed": false,
    "scrolled": true
   },
   "outputs": [
    {
     "name": "stdout",
     "output_type": "stream",
     "text": [
      "Done.\n"
     ]
    },
    {
     "data": {
      "text/html": [
       "<table>\n",
       "    <tr>\n",
       "        <th>min_pop</th>\n",
       "        <th>max_pop</th>\n",
       "        <th>min_pop_growth</th>\n",
       "        <th>max_pop_growth</th>\n",
       "    </tr>\n",
       "    <tr>\n",
       "        <td>0</td>\n",
       "        <td>7256490011</td>\n",
       "        <td>0.0</td>\n",
       "        <td>4.02</td>\n",
       "    </tr>\n",
       "</table>"
      ],
      "text/plain": [
       "[(0, 7256490011, 0.0, 4.02)]"
      ]
     },
     "execution_count": 4,
     "metadata": {},
     "output_type": "execute_result"
    }
   ],
   "source": [
    "%%sql\n",
    "SELECT\n",
    "    MIN(population) AS min_pop,\n",
    "    MAX(population) AS max_pop,\n",
    "    MIN(population_growth) AS min_pop_growth,\n",
    "    MAX(population_growth) AS max_pop_growth\n",
    "FROM\n",
    "    facts"
   ]
  },
  {
   "cell_type": "markdown",
   "metadata": {},
   "source": [
    "As shown above, \n",
    "- There's a country with a population of 0.\n",
    "- There's a country with a population of 7256490011 (or more than 7.2 billion people).\n",
    "\n",
    "So let's use `subqueries` to find out these countries with minimum and maximum populations respectively."
   ]
  },
  {
   "cell_type": "markdown",
   "metadata": {},
   "source": [
    "## Exploring Outliers"
   ]
  },
  {
   "cell_type": "code",
   "execution_count": 5,
   "metadata": {
    "collapsed": false
   },
   "outputs": [
    {
     "name": "stdout",
     "output_type": "stream",
     "text": [
      "Done.\n"
     ]
    },
    {
     "data": {
      "text/html": [
       "<table>\n",
       "    <tr>\n",
       "        <th>name</th>\n",
       "    </tr>\n",
       "    <tr>\n",
       "        <td>Antarctica</td>\n",
       "    </tr>\n",
       "</table>"
      ],
      "text/plain": [
       "[('Antarctica',)]"
      ]
     },
     "execution_count": 5,
     "metadata": {},
     "output_type": "execute_result"
    }
   ],
   "source": [
    "%%sql\n",
    "SELECT \n",
    "    name\n",
    "FROM\n",
    "    facts        \n",
    "WHERE\n",
    "    population = (SELECT\n",
    "                    MIN(population) AS min_pop\n",
    "                    FROM\n",
    "                     facts)  -- country(ies) with the lowest population"
   ]
  },
  {
   "cell_type": "markdown",
   "metadata": {},
   "source": [
    "It seems like the table contains a row for Antarctica, which explains the population of 0. This seems to match the CIA Factbook page for Antarctica."
   ]
  },
  {
   "cell_type": "code",
   "execution_count": 6,
   "metadata": {
    "collapsed": false
   },
   "outputs": [
    {
     "name": "stdout",
     "output_type": "stream",
     "text": [
      "Done.\n"
     ]
    },
    {
     "data": {
      "text/html": [
       "<table>\n",
       "    <tr>\n",
       "        <th>name</th>\n",
       "    </tr>\n",
       "    <tr>\n",
       "        <td>World</td>\n",
       "    </tr>\n",
       "</table>"
      ],
      "text/plain": [
       "[('World',)]"
      ]
     },
     "execution_count": 6,
     "metadata": {},
     "output_type": "execute_result"
    }
   ],
   "source": [
    "%%sql\n",
    "SELECT \n",
    "    name\n",
    "FROM\n",
    "    facts        \n",
    "WHERE\n",
    "    population = (SELECT\n",
    "                    MAX(population) AS max_pop\n",
    "                    FROM\n",
    "                     facts)  -- country(ies) with the highest population"
   ]
  },
  {
   "cell_type": "markdown",
   "metadata": {},
   "source": [
    "It also seems like the table contains a row for the whole world, which explains the population of over 7.2 billion. Therefore, we should remove this row and revisit our summary statistics."
   ]
  },
  {
   "cell_type": "markdown",
   "metadata": {},
   "source": [
    "## Summary Statistics Revisited"
   ]
  },
  {
   "cell_type": "code",
   "execution_count": 7,
   "metadata": {
    "collapsed": false
   },
   "outputs": [
    {
     "name": "stdout",
     "output_type": "stream",
     "text": [
      "Done.\n"
     ]
    },
    {
     "data": {
      "text/html": [
       "<table>\n",
       "    <tr>\n",
       "        <th>min_pop</th>\n",
       "        <th>max_pop</th>\n",
       "        <th>min_pop_growth</th>\n",
       "        <th>max_pop_growth</th>\n",
       "    </tr>\n",
       "    <tr>\n",
       "        <td>0</td>\n",
       "        <td>1367485388</td>\n",
       "        <td>0.0</td>\n",
       "        <td>4.02</td>\n",
       "    </tr>\n",
       "</table>"
      ],
      "text/plain": [
       "[(0, 1367485388, 0.0, 4.02)]"
      ]
     },
     "execution_count": 7,
     "metadata": {},
     "output_type": "execute_result"
    }
   ],
   "source": [
    "%%sql\n",
    "SELECT\n",
    "    MIN(population) AS min_pop,\n",
    "    MAX(population) AS max_pop,\n",
    "    MIN(population_growth) AS min_pop_growth,\n",
    "    MAX(population_growth) AS max_pop_growth\n",
    "FROM\n",
    "    facts\n",
    "WHERE\n",
    "    name <> 'World'"
   ]
  },
  {
   "cell_type": "markdown",
   "metadata": {},
   "source": [
    "There is a country whose population is close to 1.4 billion!"
   ]
  },
  {
   "cell_type": "markdown",
   "metadata": {},
   "source": [
    "## Exploring Average Population and Area\n",
    "\n",
    "Density of a country depends on its population and area. So let's explore the average population and area. We will exclude the `world` row again."
   ]
  },
  {
   "cell_type": "code",
   "execution_count": 8,
   "metadata": {
    "collapsed": false
   },
   "outputs": [
    {
     "name": "stdout",
     "output_type": "stream",
     "text": [
      "Done.\n"
     ]
    },
    {
     "data": {
      "text/html": [
       "<table>\n",
       "    <tr>\n",
       "        <th>avg_pop</th>\n",
       "        <th>avg_area</th>\n",
       "    </tr>\n",
       "    <tr>\n",
       "        <td>32242666.57</td>\n",
       "        <td>555093.55</td>\n",
       "    </tr>\n",
       "</table>"
      ],
      "text/plain": [
       "[(32242666.57, 555093.55)]"
      ]
     },
     "execution_count": 8,
     "metadata": {},
     "output_type": "execute_result"
    }
   ],
   "source": [
    "%%sql\n",
    "SELECT\n",
    "    ROUND(AVG(population),2) AS avg_pop,\n",
    "    ROUND(AVG(area),2) AS avg_area\n",
    "FROM\n",
    "    facts\n",
    "WHERE\n",
    "    name <> 'World'"
   ]
  },
  {
   "cell_type": "markdown",
   "metadata": {},
   "source": [
    "We see that the average population is around 32 million and the average area is 555 thousand square kilometers."
   ]
  },
  {
   "cell_type": "markdown",
   "metadata": {},
   "source": [
    "## Finding Densely Populated Countries\n",
    "\n",
    "To find the most densely populated countries, we'll identify countries that have the following:\n",
    "\n",
    "- Above-average values for population.\n",
    "- Below-average values for area."
   ]
  },
  {
   "cell_type": "code",
   "execution_count": 9,
   "metadata": {
    "collapsed": false
   },
   "outputs": [
    {
     "name": "stdout",
     "output_type": "stream",
     "text": [
      "Done.\n"
     ]
    },
    {
     "data": {
      "text/html": [
       "<table>\n",
       "    <tr>\n",
       "        <th>name</th>\n",
       "        <th>population</th>\n",
       "        <th>area</th>\n",
       "    </tr>\n",
       "    <tr>\n",
       "        <td>Bangladesh</td>\n",
       "        <td>168957745</td>\n",
       "        <td>148460</td>\n",
       "    </tr>\n",
       "    <tr>\n",
       "        <td>Germany</td>\n",
       "        <td>80854408</td>\n",
       "        <td>357022</td>\n",
       "    </tr>\n",
       "    <tr>\n",
       "        <td>Iraq</td>\n",
       "        <td>37056169</td>\n",
       "        <td>438317</td>\n",
       "    </tr>\n",
       "    <tr>\n",
       "        <td>Italy</td>\n",
       "        <td>61855120</td>\n",
       "        <td>301340</td>\n",
       "    </tr>\n",
       "    <tr>\n",
       "        <td>Japan</td>\n",
       "        <td>126919659</td>\n",
       "        <td>377915</td>\n",
       "    </tr>\n",
       "    <tr>\n",
       "        <td>Korea, South</td>\n",
       "        <td>49115196</td>\n",
       "        <td>99720</td>\n",
       "    </tr>\n",
       "    <tr>\n",
       "        <td>Morocco</td>\n",
       "        <td>33322699</td>\n",
       "        <td>446550</td>\n",
       "    </tr>\n",
       "    <tr>\n",
       "        <td>Philippines</td>\n",
       "        <td>100998376</td>\n",
       "        <td>300000</td>\n",
       "    </tr>\n",
       "    <tr>\n",
       "        <td>Poland</td>\n",
       "        <td>38562189</td>\n",
       "        <td>312685</td>\n",
       "    </tr>\n",
       "    <tr>\n",
       "        <td>Spain</td>\n",
       "        <td>48146134</td>\n",
       "        <td>505370</td>\n",
       "    </tr>\n",
       "    <tr>\n",
       "        <td>Thailand</td>\n",
       "        <td>67976405</td>\n",
       "        <td>513120</td>\n",
       "    </tr>\n",
       "    <tr>\n",
       "        <td>Uganda</td>\n",
       "        <td>37101745</td>\n",
       "        <td>241038</td>\n",
       "    </tr>\n",
       "    <tr>\n",
       "        <td>United Kingdom</td>\n",
       "        <td>64088222</td>\n",
       "        <td>243610</td>\n",
       "    </tr>\n",
       "    <tr>\n",
       "        <td>Vietnam</td>\n",
       "        <td>94348835</td>\n",
       "        <td>331210</td>\n",
       "    </tr>\n",
       "</table>"
      ],
      "text/plain": [
       "[('Bangladesh', 168957745, 148460),\n",
       " ('Germany', 80854408, 357022),\n",
       " ('Iraq', 37056169, 438317),\n",
       " ('Italy', 61855120, 301340),\n",
       " ('Japan', 126919659, 377915),\n",
       " ('Korea, South', 49115196, 99720),\n",
       " ('Morocco', 33322699, 446550),\n",
       " ('Philippines', 100998376, 300000),\n",
       " ('Poland', 38562189, 312685),\n",
       " ('Spain', 48146134, 505370),\n",
       " ('Thailand', 67976405, 513120),\n",
       " ('Uganda', 37101745, 241038),\n",
       " ('United Kingdom', 64088222, 243610),\n",
       " ('Vietnam', 94348835, 331210)]"
      ]
     },
     "execution_count": 9,
     "metadata": {},
     "output_type": "execute_result"
    }
   ],
   "source": [
    "%%sql\n",
    "\n",
    "SELECT \n",
    "    name,\n",
    "    population,\n",
    "    area\n",
    "    \n",
    "FROM\n",
    "    facts\n",
    "WHERE\n",
    "    population > (SELECT\n",
    "                    AVG(population) AS avg_pop\n",
    "                    FROM\n",
    "                        facts\n",
    "                     WHERE\n",
    "                         name <> 'World')\n",
    "    AND area < (SELECT\n",
    "                    AVG(area) AS avg_area\n",
    "                    FROM\n",
    "                        facts\n",
    "                    WHERE\n",
    "                        name <> 'World')"
   ]
  },
  {
   "cell_type": "markdown",
   "metadata": {},
   "source": [
    "Some of these countries are generally known to be densely populated, so we have confidence in our results!"
   ]
  },
  {
   "cell_type": "markdown",
   "metadata": {},
   "source": [
    "## Further Summary Statistics\n",
    "\n",
    "To further my practice of using SQL, I decide to take the analysis further to answer the following questions:\n",
    "\n",
    "- Which country has the most people?\n",
    "- Which country has the highest growth rate?\n",
    "- Which countries have the highest ratios of water to land? \n",
    "- Which countries have more water than land?\n",
    "- Which countries will add the most people to their populations next year?\n",
    "- Which countries have a highest and lowest birth rates?\n",
    "- Which countries have a highest and lowest death rates?\n",
    "- Which countries have the highest population/area ratio, and how does it compare to list we found above?\n",
    "\n",
    "Let's dive in."
   ]
  },
  {
   "cell_type": "markdown",
   "metadata": {},
   "source": [
    "### Top 10 Most Populous Countries"
   ]
  },
  {
   "cell_type": "code",
   "execution_count": 10,
   "metadata": {
    "collapsed": false
   },
   "outputs": [
    {
     "name": "stdout",
     "output_type": "stream",
     "text": [
      "Done.\n"
     ]
    },
    {
     "data": {
      "text/html": [
       "<table>\n",
       "    <tr>\n",
       "        <th>name</th>\n",
       "        <th>population</th>\n",
       "    </tr>\n",
       "    <tr>\n",
       "        <td>China</td>\n",
       "        <td>1367485388</td>\n",
       "    </tr>\n",
       "    <tr>\n",
       "        <td>India</td>\n",
       "        <td>1251695584</td>\n",
       "    </tr>\n",
       "    <tr>\n",
       "        <td>United States</td>\n",
       "        <td>321368864</td>\n",
       "    </tr>\n",
       "    <tr>\n",
       "        <td>Indonesia</td>\n",
       "        <td>255993674</td>\n",
       "    </tr>\n",
       "    <tr>\n",
       "        <td>Brazil</td>\n",
       "        <td>204259812</td>\n",
       "    </tr>\n",
       "    <tr>\n",
       "        <td>Pakistan</td>\n",
       "        <td>199085847</td>\n",
       "    </tr>\n",
       "    <tr>\n",
       "        <td>Nigeria</td>\n",
       "        <td>181562056</td>\n",
       "    </tr>\n",
       "    <tr>\n",
       "        <td>Bangladesh</td>\n",
       "        <td>168957745</td>\n",
       "    </tr>\n",
       "    <tr>\n",
       "        <td>Russia</td>\n",
       "        <td>142423773</td>\n",
       "    </tr>\n",
       "    <tr>\n",
       "        <td>Japan</td>\n",
       "        <td>126919659</td>\n",
       "    </tr>\n",
       "</table>"
      ],
      "text/plain": [
       "[('China', 1367485388),\n",
       " ('India', 1251695584),\n",
       " ('United States', 321368864),\n",
       " ('Indonesia', 255993674),\n",
       " ('Brazil', 204259812),\n",
       " ('Pakistan', 199085847),\n",
       " ('Nigeria', 181562056),\n",
       " ('Bangladesh', 168957745),\n",
       " ('Russia', 142423773),\n",
       " ('Japan', 126919659)]"
      ]
     },
     "execution_count": 10,
     "metadata": {},
     "output_type": "execute_result"
    }
   ],
   "source": [
    "%%sql\n",
    "SELECT        -- countries with highest population \n",
    "    name, \n",
    "    population\n",
    "FROM \n",
    "    facts\n",
    "WHERE \n",
    "    name NOT IN ('World', 'European Union')\n",
    "ORDER BY 2 DESC\n",
    "LIMIT 10\n",
    "    "
   ]
  },
  {
   "cell_type": "markdown",
   "metadata": {},
   "source": [
    "China is the country with most people with a population of almost 1.4 billion people."
   ]
  },
  {
   "cell_type": "markdown",
   "metadata": {},
   "source": [
    "### Country with Highest Growth Rate"
   ]
  },
  {
   "cell_type": "code",
   "execution_count": 11,
   "metadata": {
    "collapsed": false
   },
   "outputs": [
    {
     "name": "stdout",
     "output_type": "stream",
     "text": [
      "Done.\n"
     ]
    },
    {
     "data": {
      "text/html": [
       "<table>\n",
       "    <tr>\n",
       "        <th>name</th>\n",
       "        <th>population_growth</th>\n",
       "    </tr>\n",
       "    <tr>\n",
       "        <td>South Sudan</td>\n",
       "        <td>4.02</td>\n",
       "    </tr>\n",
       "</table>"
      ],
      "text/plain": [
       "[('South Sudan', 4.02)]"
      ]
     },
     "execution_count": 11,
     "metadata": {},
     "output_type": "execute_result"
    }
   ],
   "source": [
    "%%sql\n",
    "SELECT                -- country with highest population growth\n",
    "    name,\n",
    "    population_growth\n",
    "FROM \n",
    "    facts\n",
    "WHERE\n",
    "    population_growth = (SELECT MAX(population_growth)\n",
    "                  FROM \n",
    "                      facts\n",
    "                  WHERE\n",
    "                      name <> 'World'\n",
    "                 )"
   ]
  },
  {
   "cell_type": "markdown",
   "metadata": {},
   "source": [
    "South Sudan is the country with the highest growth rate with a population growth of 4.02%."
   ]
  },
  {
   "cell_type": "markdown",
   "metadata": {},
   "source": [
    "### Country with Highest Water to Land Ratio\n",
    "\n",
    "To find the country(ies) with the highest ratios of water to land, we need to find the highest water to land ratio."
   ]
  },
  {
   "cell_type": "code",
   "execution_count": 12,
   "metadata": {
    "collapsed": false
   },
   "outputs": [
    {
     "name": "stdout",
     "output_type": "stream",
     "text": [
      "Done.\n"
     ]
    },
    {
     "data": {
      "text/html": [
       "<table>\n",
       "    <tr>\n",
       "        <th>max_water_land_ratio</th>\n",
       "    </tr>\n",
       "    <tr>\n",
       "        <td>905.67</td>\n",
       "    </tr>\n",
       "</table>"
      ],
      "text/plain": [
       "[(905.67,)]"
      ]
     },
     "execution_count": 12,
     "metadata": {},
     "output_type": "execute_result"
    }
   ],
   "source": [
    "%%sql\n",
    "\n",
    "SELECT\n",
    "    ROUND(MAX(CAST(area_water AS Float) / area_land), 2) AS max_water_land_ratio\n",
    "FROM\n",
    "    facts\n"
   ]
  },
  {
   "cell_type": "markdown",
   "metadata": {},
   "source": [
    "Then we pass this as a subquery to our `WHERE` clause to find the country with this ratio (which is the highest)."
   ]
  },
  {
   "cell_type": "code",
   "execution_count": 13,
   "metadata": {
    "collapsed": false
   },
   "outputs": [
    {
     "name": "stdout",
     "output_type": "stream",
     "text": [
      "Done.\n"
     ]
    },
    {
     "data": {
      "text/html": [
       "<table>\n",
       "    <tr>\n",
       "        <th>name</th>\n",
       "        <th>water_land_ratio</th>\n",
       "    </tr>\n",
       "    <tr>\n",
       "        <td>British Indian Ocean Territory</td>\n",
       "        <td>905.67</td>\n",
       "    </tr>\n",
       "</table>"
      ],
      "text/plain": [
       "[('British Indian Ocean Territory', 905.67)]"
      ]
     },
     "execution_count": 13,
     "metadata": {},
     "output_type": "execute_result"
    }
   ],
   "source": [
    "%%sql\n",
    "\n",
    "SELECT \n",
    "    name, \n",
    "    ROUND(CAST(area_water AS Float) / area_land, 2) AS water_land_ratio\n",
    "FROM\n",
    "    facts\n",
    "WHERE \n",
    "    water_land_ratio = (SELECT \n",
    "                            ROUND(MAX(CAST(area_water AS Float) / area_land), 2) AS max_water_land_ratio\n",
    "                        FROM\n",
    "                            facts\n",
    "                        WHERE\n",
    "                            name <> 'World')\n",
    "                        "
   ]
  },
  {
   "cell_type": "markdown",
   "metadata": {},
   "source": [
    "It seems that our data contains ocean which is not a country. Let's revisit our query to exclude the `British Indian Ocean Territory`. "
   ]
  },
  {
   "cell_type": "markdown",
   "metadata": {},
   "source": [
    "***Revisiting query***"
   ]
  },
  {
   "cell_type": "code",
   "execution_count": 14,
   "metadata": {
    "collapsed": false
   },
   "outputs": [
    {
     "name": "stdout",
     "output_type": "stream",
     "text": [
      "Done.\n"
     ]
    },
    {
     "data": {
      "text/html": [
       "<table>\n",
       "    <tr>\n",
       "        <th>max_water_land_ratio</th>\n",
       "    </tr>\n",
       "    <tr>\n",
       "        <td>4.52</td>\n",
       "    </tr>\n",
       "</table>"
      ],
      "text/plain": [
       "[(4.52,)]"
      ]
     },
     "execution_count": 14,
     "metadata": {},
     "output_type": "execute_result"
    }
   ],
   "source": [
    "%%sql\n",
    "\n",
    "SELECT \n",
    "    ROUND(MAX(CAST(area_water AS Float) / area_land), 2) AS max_water_land_ratio\n",
    "FROM\n",
    "    facts\n",
    "WHERE \n",
    "    name <> 'World'\n",
    "AND\n",
    "    name <> 'British Indian Ocean Territory'"
   ]
  },
  {
   "cell_type": "markdown",
   "metadata": {},
   "source": [
    "It seems there is a country in which the ratio of water to land is 4.52. Let's find out which country is that."
   ]
  },
  {
   "cell_type": "code",
   "execution_count": 15,
   "metadata": {
    "collapsed": false
   },
   "outputs": [
    {
     "name": "stdout",
     "output_type": "stream",
     "text": [
      "Done.\n"
     ]
    },
    {
     "data": {
      "text/html": [
       "<table>\n",
       "    <tr>\n",
       "        <th>name</th>\n",
       "        <th>area_water</th>\n",
       "        <th>area_land</th>\n",
       "        <th>water_land_ratio</th>\n",
       "    </tr>\n",
       "    <tr>\n",
       "        <td>Virgin Islands</td>\n",
       "        <td>1564</td>\n",
       "        <td>346</td>\n",
       "        <td>4.52</td>\n",
       "    </tr>\n",
       "</table>"
      ],
      "text/plain": [
       "[('Virgin Islands', 1564, 346, 4.52)]"
      ]
     },
     "execution_count": 15,
     "metadata": {},
     "output_type": "execute_result"
    }
   ],
   "source": [
    "%%sql\n",
    "\n",
    "SELECT \n",
    "    name,\n",
    "    area_water,\n",
    "    area_land,\n",
    "    ROUND(CAST(area_water AS Float) / CAST(area_land AS Float), 2) AS water_land_ratio\n",
    "FROM\n",
    "    facts\n",
    "WHERE \n",
    "    water_land_ratio = (SELECT \n",
    "                            ROUND(MAX(CAST(area_water AS Float) / area_land), 2) AS max_water_land_ratio\n",
    "                        FROM\n",
    "                            facts\n",
    "                        WHERE\n",
    "                            name <> 'World'\n",
    "                        AND\n",
    "                            name <> 'British Indian Ocean Territory')"
   ]
  },
  {
   "cell_type": "markdown",
   "metadata": {},
   "source": [
    "Virgin Islands is the country with the highest water to land ratio with 4.52."
   ]
  },
  {
   "cell_type": "markdown",
   "metadata": {},
   "source": [
    "### Countries with More Water than Land \n",
    "\n",
    "To find the countries with more water than land, we need the  difference between water and land to be positive."
   ]
  },
  {
   "cell_type": "code",
   "execution_count": 16,
   "metadata": {
    "collapsed": false
   },
   "outputs": [
    {
     "name": "stdout",
     "output_type": "stream",
     "text": [
      "Done.\n"
     ]
    },
    {
     "data": {
      "text/html": [
       "<table>\n",
       "    <tr>\n",
       "        <th>name</th>\n",
       "        <th>area_water</th>\n",
       "        <th>area_land</th>\n",
       "        <th>water_land_diff</th>\n",
       "    </tr>\n",
       "    <tr>\n",
       "        <td>Virgin Islands</td>\n",
       "        <td>1564</td>\n",
       "        <td>346</td>\n",
       "        <td>1218</td>\n",
       "    </tr>\n",
       "</table>"
      ],
      "text/plain": [
       "[('Virgin Islands', 1564, 346, 1218)]"
      ]
     },
     "execution_count": 16,
     "metadata": {},
     "output_type": "execute_result"
    }
   ],
   "source": [
    "%%sql\n",
    "\n",
    "SELECT \n",
    "    name,\n",
    "    area_water,\n",
    "    area_land,\n",
    "    area_water - area_land AS water_land_diff\n",
    "FROM\n",
    "    facts\n",
    "WHERE\n",
    "    water_land_diff > 0\n",
    "AND\n",
    "    name <> 'World'\n",
    "AND\n",
    "    name <> 'British Indian Ocean Territory'"
   ]
  },
  {
   "cell_type": "markdown",
   "metadata": {},
   "source": [
    "`Virgin Islands` is the only country that thas more water than land."
   ]
  },
  {
   "cell_type": "markdown",
   "metadata": {},
   "source": [
    "### Countries with the Fastest Rising Population\n",
    "\n",
    "To identify the fastest rising populations, we select countries whose yearly births are bigger than the yearly deaths. "
   ]
  },
  {
   "cell_type": "code",
   "execution_count": 17,
   "metadata": {
    "collapsed": false
   },
   "outputs": [
    {
     "name": "stdout",
     "output_type": "stream",
     "text": [
      "Done.\n"
     ]
    },
    {
     "data": {
      "text/html": [
       "<table>\n",
       "    <tr>\n",
       "        <th>name</th>\n",
       "        <th>new_births</th>\n",
       "        <th>new_deaths</th>\n",
       "        <th>additional_population</th>\n",
       "    </tr>\n",
       "    <tr>\n",
       "        <td>India</td>\n",
       "        <td>24470648.67</td>\n",
       "        <td>9162411.67</td>\n",
       "        <td>15308237.0</td>\n",
       "    </tr>\n",
       "    <tr>\n",
       "        <td>China</td>\n",
       "        <td>17079892.5</td>\n",
       "        <td>10297164.97</td>\n",
       "        <td>6782727.53</td>\n",
       "    </tr>\n",
       "    <tr>\n",
       "        <td>Nigeria</td>\n",
       "        <td>6833995.79</td>\n",
       "        <td>2342150.52</td>\n",
       "        <td>4491845.27</td>\n",
       "    </tr>\n",
       "    <tr>\n",
       "        <td>Pakistan</td>\n",
       "        <td>4495358.43</td>\n",
       "        <td>1292067.15</td>\n",
       "        <td>3203291.28</td>\n",
       "    </tr>\n",
       "    <tr>\n",
       "        <td>Ethiopia</td>\n",
       "        <td>3707091.07</td>\n",
       "        <td>814625.06</td>\n",
       "        <td>2892466.01</td>\n",
       "    </tr>\n",
       "    <tr>\n",
       "        <td>Indonesia</td>\n",
       "        <td>4280214.23</td>\n",
       "        <td>1630679.7</td>\n",
       "        <td>2649534.53</td>\n",
       "    </tr>\n",
       "    <tr>\n",
       "        <td>Bangladesh</td>\n",
       "        <td>3571766.73</td>\n",
       "        <td>947852.95</td>\n",
       "        <td>2623913.78</td>\n",
       "    </tr>\n",
       "    <tr>\n",
       "        <td>Congo, Democratic Republic of the</td>\n",
       "        <td>2768604.74</td>\n",
       "        <td>799307.62</td>\n",
       "        <td>1969297.12</td>\n",
       "    </tr>\n",
       "    <tr>\n",
       "        <td>Philippines</td>\n",
       "        <td>2451230.59</td>\n",
       "        <td>617100.08</td>\n",
       "        <td>1834130.51</td>\n",
       "    </tr>\n",
       "    <tr>\n",
       "        <td>Mexico</td>\n",
       "        <td>2286217.27</td>\n",
       "        <td>640335.62</td>\n",
       "        <td>1645881.65</td>\n",
       "    </tr>\n",
       "</table>"
      ],
      "text/plain": [
       "[('India', 24470648.67, 9162411.67, 15308237.0),\n",
       " ('China', 17079892.5, 10297164.97, 6782727.53),\n",
       " ('Nigeria', 6833995.79, 2342150.52, 4491845.27),\n",
       " ('Pakistan', 4495358.43, 1292067.15, 3203291.28),\n",
       " ('Ethiopia', 3707091.07, 814625.06, 2892466.01),\n",
       " ('Indonesia', 4280214.23, 1630679.7, 2649534.53),\n",
       " ('Bangladesh', 3571766.73, 947852.95, 2623913.78),\n",
       " ('Congo, Democratic Republic of the', 2768604.74, 799307.62, 1969297.12),\n",
       " ('Philippines', 2451230.59, 617100.08, 1834130.51),\n",
       " ('Mexico', 2286217.27, 640335.62, 1645881.65)]"
      ]
     },
     "execution_count": 17,
     "metadata": {},
     "output_type": "execute_result"
    }
   ],
   "source": [
    "%%sql\n",
    "\n",
    "SELECT\n",
    "    name,\n",
    "    ROUND(CAST(population AS Float) * 0.001 * birth_rate, 2) AS new_births,\n",
    "    ROUND(CAST(population AS Float) * 0.001 * death_rate, 2) AS new_deaths,\n",
    "    ROUND(ROUND(CAST(population AS Float) * 0.001 * birth_rate, 2) - ROUND(CAST(population AS Float) * 0.001 * death_rate, 2),2)\n",
    "    AS additional_population\n",
    "FROM\n",
    "    facts\n",
    "WHERE\n",
    "        name NOT IN ('World','British Indian Ocean Territory') \n",
    "ORDER BY\n",
    "    additional_population DESC\n",
    "LIMIT 10"
   ]
  },
  {
   "cell_type": "markdown",
   "metadata": {},
   "source": [
    "India, China and Nigeria are the top 3 countries that will add most people to their population in next year."
   ]
  },
  {
   "cell_type": "markdown",
   "metadata": {},
   "source": [
    "### Countries with Higher Death Rates than Birth Rates"
   ]
  },
  {
   "cell_type": "code",
   "execution_count": 18,
   "metadata": {
    "collapsed": false
   },
   "outputs": [
    {
     "name": "stdout",
     "output_type": "stream",
     "text": [
      "Done.\n"
     ]
    },
    {
     "data": {
      "text/html": [
       "<table>\n",
       "    <tr>\n",
       "        <th>name</th>\n",
       "        <th>death_rate</th>\n",
       "        <th>birth_rate</th>\n",
       "        <th>death_birth_ratio</th>\n",
       "    </tr>\n",
       "    <tr>\n",
       "        <td>Austria</td>\n",
       "        <td>9.42</td>\n",
       "        <td>9.41</td>\n",
       "        <td>1.0</td>\n",
       "    </tr>\n",
       "    <tr>\n",
       "        <td>Moldova</td>\n",
       "        <td>12.59</td>\n",
       "        <td>12.0</td>\n",
       "        <td>1.05</td>\n",
       "    </tr>\n",
       "    <tr>\n",
       "        <td>Poland</td>\n",
       "        <td>10.19</td>\n",
       "        <td>9.74</td>\n",
       "        <td>1.05</td>\n",
       "    </tr>\n",
       "    <tr>\n",
       "        <td>Czech Republic</td>\n",
       "        <td>10.34</td>\n",
       "        <td>9.63</td>\n",
       "        <td>1.07</td>\n",
       "    </tr>\n",
       "    <tr>\n",
       "        <td>Bosnia and Herzegovina</td>\n",
       "        <td>9.75</td>\n",
       "        <td>8.87</td>\n",
       "        <td>1.1</td>\n",
       "    </tr>\n",
       "    <tr>\n",
       "        <td>Italy</td>\n",
       "        <td>10.19</td>\n",
       "        <td>8.74</td>\n",
       "        <td>1.17</td>\n",
       "    </tr>\n",
       "    <tr>\n",
       "        <td>Estonia</td>\n",
       "        <td>12.4</td>\n",
       "        <td>10.51</td>\n",
       "        <td>1.18</td>\n",
       "    </tr>\n",
       "    <tr>\n",
       "        <td>Russia</td>\n",
       "        <td>13.69</td>\n",
       "        <td>11.6</td>\n",
       "        <td>1.18</td>\n",
       "    </tr>\n",
       "    <tr>\n",
       "        <td>Portugal</td>\n",
       "        <td>11.02</td>\n",
       "        <td>9.27</td>\n",
       "        <td>1.19</td>\n",
       "    </tr>\n",
       "    <tr>\n",
       "        <td>Japan</td>\n",
       "        <td>9.51</td>\n",
       "        <td>7.93</td>\n",
       "        <td>1.2</td>\n",
       "    </tr>\n",
       "</table>"
      ],
      "text/plain": [
       "[('Austria', 9.42, 9.41, 1.0),\n",
       " ('Moldova', 12.59, 12.0, 1.05),\n",
       " ('Poland', 10.19, 9.74, 1.05),\n",
       " ('Czech Republic', 10.34, 9.63, 1.07),\n",
       " ('Bosnia and Herzegovina', 9.75, 8.87, 1.1),\n",
       " ('Italy', 10.19, 8.74, 1.17),\n",
       " ('Estonia', 12.4, 10.51, 1.18),\n",
       " ('Russia', 13.69, 11.6, 1.18),\n",
       " ('Portugal', 11.02, 9.27, 1.19),\n",
       " ('Japan', 9.51, 7.93, 1.2)]"
      ]
     },
     "execution_count": 18,
     "metadata": {},
     "output_type": "execute_result"
    }
   ],
   "source": [
    "%%sql\n",
    "\n",
    "SELECT\n",
    "    name,\n",
    "    death_rate,\n",
    "    birth_rate,\n",
    "    ROUND(death_rate / birth_rate, 2) AS death_birth_ratio\n",
    "FROM\n",
    "    facts\n",
    "WHERE \n",
    "    death_rate > birth_rate\n",
    "ORDER BY\n",
    "    death_birth_ratio\n",
    "LIMIT \n",
    "    10"
   ]
  },
  {
   "cell_type": "markdown",
   "metadata": {},
   "source": [
    "### Countries with the Highest Birth Rates"
   ]
  },
  {
   "cell_type": "code",
   "execution_count": 19,
   "metadata": {
    "collapsed": false,
    "scrolled": true
   },
   "outputs": [
    {
     "name": "stdout",
     "output_type": "stream",
     "text": [
      "Done.\n"
     ]
    },
    {
     "data": {
      "text/html": [
       "<table>\n",
       "    <tr>\n",
       "        <th>name</th>\n",
       "        <th>birth_rate</th>\n",
       "    </tr>\n",
       "    <tr>\n",
       "        <td>Niger</td>\n",
       "        <td>45.45</td>\n",
       "    </tr>\n",
       "    <tr>\n",
       "        <td>Mali</td>\n",
       "        <td>44.99</td>\n",
       "    </tr>\n",
       "    <tr>\n",
       "        <td>Uganda</td>\n",
       "        <td>43.79</td>\n",
       "    </tr>\n",
       "    <tr>\n",
       "        <td>Zambia</td>\n",
       "        <td>42.13</td>\n",
       "    </tr>\n",
       "    <tr>\n",
       "        <td>Burkina Faso</td>\n",
       "        <td>42.03</td>\n",
       "    </tr>\n",
       "    <tr>\n",
       "        <td>Burundi</td>\n",
       "        <td>42.01</td>\n",
       "    </tr>\n",
       "    <tr>\n",
       "        <td>Malawi</td>\n",
       "        <td>41.56</td>\n",
       "    </tr>\n",
       "    <tr>\n",
       "        <td>Somalia</td>\n",
       "        <td>40.45</td>\n",
       "    </tr>\n",
       "    <tr>\n",
       "        <td>Angola</td>\n",
       "        <td>38.78</td>\n",
       "    </tr>\n",
       "    <tr>\n",
       "        <td>Mozambique</td>\n",
       "        <td>38.58</td>\n",
       "    </tr>\n",
       "</table>"
      ],
      "text/plain": [
       "[('Niger', 45.45),\n",
       " ('Mali', 44.99),\n",
       " ('Uganda', 43.79),\n",
       " ('Zambia', 42.13),\n",
       " ('Burkina Faso', 42.03),\n",
       " ('Burundi', 42.01),\n",
       " ('Malawi', 41.56),\n",
       " ('Somalia', 40.45),\n",
       " ('Angola', 38.78),\n",
       " ('Mozambique', 38.58)]"
      ]
     },
     "execution_count": 19,
     "metadata": {},
     "output_type": "execute_result"
    }
   ],
   "source": [
    "%%sql\n",
    "SELECT\n",
    "    name,\n",
    "    birth_rate\n",
    "FROM \n",
    "    facts\n",
    "ORDER BY \n",
    "    birth_rate DESC\n",
    "LIMIT\n",
    "    10"
   ]
  },
  {
   "cell_type": "markdown",
   "metadata": {},
   "source": [
    "- Niger has the highest birth rate in the world at 45.45 average annual births per 1,000 people per year. Mali (44.99), Uganda (43.79), Zambia (42.13), and Burkina Faso (42.03) follow closely behind. All countries in the top-10 list belong to Africa."
   ]
  },
  {
   "cell_type": "markdown",
   "metadata": {},
   "source": [
    "### Countries with the Lowest Birth Rates"
   ]
  },
  {
   "cell_type": "code",
   "execution_count": 20,
   "metadata": {
    "collapsed": false,
    "scrolled": true
   },
   "outputs": [
    {
     "name": "stdout",
     "output_type": "stream",
     "text": [
      "Done.\n"
     ]
    },
    {
     "data": {
      "text/html": [
       "<table>\n",
       "    <tr>\n",
       "        <th>name</th>\n",
       "        <th>birth_rate</th>\n",
       "    </tr>\n",
       "    <tr>\n",
       "        <td>Monaco</td>\n",
       "        <td>6.65</td>\n",
       "    </tr>\n",
       "    <tr>\n",
       "        <td>Saint Pierre and Miquelon</td>\n",
       "        <td>7.42</td>\n",
       "    </tr>\n",
       "    <tr>\n",
       "        <td>Japan</td>\n",
       "        <td>7.93</td>\n",
       "    </tr>\n",
       "    <tr>\n",
       "        <td>Andorra</td>\n",
       "        <td>8.13</td>\n",
       "    </tr>\n",
       "    <tr>\n",
       "        <td>Korea, South</td>\n",
       "        <td>8.19</td>\n",
       "    </tr>\n",
       "    <tr>\n",
       "        <td>Singapore</td>\n",
       "        <td>8.27</td>\n",
       "    </tr>\n",
       "    <tr>\n",
       "        <td>Slovenia</td>\n",
       "        <td>8.42</td>\n",
       "    </tr>\n",
       "    <tr>\n",
       "        <td>Germany</td>\n",
       "        <td>8.47</td>\n",
       "    </tr>\n",
       "    <tr>\n",
       "        <td>Taiwan</td>\n",
       "        <td>8.47</td>\n",
       "    </tr>\n",
       "    <tr>\n",
       "        <td>San Marino</td>\n",
       "        <td>8.63</td>\n",
       "    </tr>\n",
       "</table>"
      ],
      "text/plain": [
       "[('Monaco', 6.65),\n",
       " ('Saint Pierre and Miquelon', 7.42),\n",
       " ('Japan', 7.93),\n",
       " ('Andorra', 8.13),\n",
       " ('Korea, South', 8.19),\n",
       " ('Singapore', 8.27),\n",
       " ('Slovenia', 8.42),\n",
       " ('Germany', 8.47),\n",
       " ('Taiwan', 8.47),\n",
       " ('San Marino', 8.63)]"
      ]
     },
     "execution_count": 20,
     "metadata": {},
     "output_type": "execute_result"
    }
   ],
   "source": [
    "%%sql\n",
    "SELECT\n",
    "    name,\n",
    "    birth_rate\n",
    "FROM \n",
    "    facts\n",
    "WHERE\n",
    "    name <> 'World'\n",
    "    AND birth_rate IS NOT NULL\n",
    "ORDER BY \n",
    "    birth_rate \n",
    "LIMIT\n",
    "    10"
   ]
  },
  {
   "cell_type": "markdown",
   "metadata": {},
   "source": [
    "- On the other side of the scale, the CIA estimates Monaco has the lowest birth rate in the world at 6.65 average annual births per 1,000 people per year. The small population size of [Saint Pierre](https://en.wikipedia.org/wiki/Saint-Pierre,_Saint_Pierre_and_Miquelon) makes it easy to understand its presence on the list. With close margins, Japan (7.93), Andorra (8.13), and South Korea (8.19) occupy 3rd to 5th place, respectively.\n",
    "\n",
    "This [Wikipedia article](https://en.wikipedia.org/wiki/Total_fertility_rate) provides some insights into the low birth rates recorded in Asian regions (Japan, South Korea, Taiwan, and Singapore). Aging and socio-economic challenges are described as the major reasons for these results."
   ]
  },
  {
   "cell_type": "markdown",
   "metadata": {},
   "source": [
    "### Countries with the Highest Death Rates"
   ]
  },
  {
   "cell_type": "code",
   "execution_count": 21,
   "metadata": {
    "collapsed": false
   },
   "outputs": [
    {
     "name": "stdout",
     "output_type": "stream",
     "text": [
      "Done.\n"
     ]
    },
    {
     "data": {
      "text/html": [
       "<table>\n",
       "    <tr>\n",
       "        <th>name</th>\n",
       "        <th>death_rate</th>\n",
       "    </tr>\n",
       "    <tr>\n",
       "        <td>Lesotho</td>\n",
       "        <td>14.89</td>\n",
       "    </tr>\n",
       "    <tr>\n",
       "        <td>Ukraine</td>\n",
       "        <td>14.46</td>\n",
       "    </tr>\n",
       "    <tr>\n",
       "        <td>Bulgaria</td>\n",
       "        <td>14.44</td>\n",
       "    </tr>\n",
       "    <tr>\n",
       "        <td>Guinea-Bissau</td>\n",
       "        <td>14.33</td>\n",
       "    </tr>\n",
       "    <tr>\n",
       "        <td>Latvia</td>\n",
       "        <td>14.31</td>\n",
       "    </tr>\n",
       "    <tr>\n",
       "        <td>Chad</td>\n",
       "        <td>14.28</td>\n",
       "    </tr>\n",
       "    <tr>\n",
       "        <td>Lithuania</td>\n",
       "        <td>14.27</td>\n",
       "    </tr>\n",
       "    <tr>\n",
       "        <td>Namibia</td>\n",
       "        <td>13.91</td>\n",
       "    </tr>\n",
       "    <tr>\n",
       "        <td>Afghanistan</td>\n",
       "        <td>13.89</td>\n",
       "    </tr>\n",
       "    <tr>\n",
       "        <td>Central African Republic</td>\n",
       "        <td>13.8</td>\n",
       "    </tr>\n",
       "</table>"
      ],
      "text/plain": [
       "[('Lesotho', 14.89),\n",
       " ('Ukraine', 14.46),\n",
       " ('Bulgaria', 14.44),\n",
       " ('Guinea-Bissau', 14.33),\n",
       " ('Latvia', 14.31),\n",
       " ('Chad', 14.28),\n",
       " ('Lithuania', 14.27),\n",
       " ('Namibia', 13.91),\n",
       " ('Afghanistan', 13.89),\n",
       " ('Central African Republic', 13.8)]"
      ]
     },
     "execution_count": 21,
     "metadata": {},
     "output_type": "execute_result"
    }
   ],
   "source": [
    "%%sql\n",
    "SELECT\n",
    "    name,\n",
    "    death_rate\n",
    "FROM \n",
    "    facts\n",
    "ORDER BY \n",
    "    death_rate DESC\n",
    "LIMIT\n",
    "    10"
   ]
  },
  {
   "cell_type": "markdown",
   "metadata": {},
   "source": [
    "- African countries of Lesotho anf Guinea_Bissau occupies the 1st and 4th positions with 14.89 deaths per 100 people and 14.33 deaths per 100 people respectively. According to the [CDC](https://www.cdc.gov/globalhealth/countries/lesotho/default.htm) and the [Borgen project](https://borgenproject.org/top-diseases-in-guinea-bissau/#:~:text=The%20leading%20cause%20of%20death,significantly%20reduce%20their%20negative%20effects), the leading causes of death in these territories are infections and poverty.\n",
    "\n",
    "- While in the case of the European countries of Ukraine, Bulgaria, Latvia that occupy the 2nd, 3rd and 5th positions respectively, [studies](https://www.oecd-ilibrary.org/sites/82129230-en/1/3/2/1/4/index.html?itemId=/content/publication/82129230-en&_csp_=e7f5d56a7f4dd03271a59acda6e2be1b&itemIGO=oecd&itemContentType=book#:~:text=The%20main%20causes%20of%20death,or%2037%25%20of%20all%20deaths) reveal that the leading causes of death are non-infectious diseases like circulatory, digestive, or respiratory diseases and cancers. In Ukraine and Latvia, [poor healthcare administration](https://worldpopulationreview.com/country-rankings/death-rate-by-country#:~:text=2.%20Ukraine,world%20in%202019.) contributes to death."
   ]
  },
  {
   "cell_type": "markdown",
   "metadata": {},
   "source": [
    "### Countries with Lowest Death Rates"
   ]
  },
  {
   "cell_type": "code",
   "execution_count": 22,
   "metadata": {
    "collapsed": false
   },
   "outputs": [
    {
     "name": "stdout",
     "output_type": "stream",
     "text": [
      "Done.\n"
     ]
    },
    {
     "data": {
      "text/html": [
       "<table>\n",
       "    <tr>\n",
       "        <th>name</th>\n",
       "        <th>death_rate</th>\n",
       "    </tr>\n",
       "    <tr>\n",
       "        <td>Qatar</td>\n",
       "        <td>1.53</td>\n",
       "    </tr>\n",
       "    <tr>\n",
       "        <td>United Arab Emirates</td>\n",
       "        <td>1.97</td>\n",
       "    </tr>\n",
       "    <tr>\n",
       "        <td>Kuwait</td>\n",
       "        <td>2.18</td>\n",
       "    </tr>\n",
       "    <tr>\n",
       "        <td>Bahrain</td>\n",
       "        <td>2.69</td>\n",
       "    </tr>\n",
       "    <tr>\n",
       "        <td>Gaza Strip</td>\n",
       "        <td>3.04</td>\n",
       "    </tr>\n",
       "    <tr>\n",
       "        <td>Turks and Caicos Islands</td>\n",
       "        <td>3.1</td>\n",
       "    </tr>\n",
       "    <tr>\n",
       "        <td>Saudi Arabia</td>\n",
       "        <td>3.33</td>\n",
       "    </tr>\n",
       "    <tr>\n",
       "        <td>Oman</td>\n",
       "        <td>3.36</td>\n",
       "    </tr>\n",
       "    <tr>\n",
       "        <td>Singapore</td>\n",
       "        <td>3.43</td>\n",
       "    </tr>\n",
       "    <tr>\n",
       "        <td>West Bank</td>\n",
       "        <td>3.5</td>\n",
       "    </tr>\n",
       "</table>"
      ],
      "text/plain": [
       "[('Qatar', 1.53),\n",
       " ('United Arab Emirates', 1.97),\n",
       " ('Kuwait', 2.18),\n",
       " ('Bahrain', 2.69),\n",
       " ('Gaza Strip', 3.04),\n",
       " ('Turks and Caicos Islands', 3.1),\n",
       " ('Saudi Arabia', 3.33),\n",
       " ('Oman', 3.36),\n",
       " ('Singapore', 3.43),\n",
       " ('West Bank', 3.5)]"
      ]
     },
     "execution_count": 22,
     "metadata": {},
     "output_type": "execute_result"
    }
   ],
   "source": [
    "%%sql\n",
    "SELECT\n",
    "    name,\n",
    "    death_rate\n",
    "FROM \n",
    "    facts\n",
    "WHERE\n",
    "    name <> 'World'\n",
    "    AND death_rate IS NOT NULL\n",
    "ORDER BY \n",
    "    death_rate\n",
    "LIMIT\n",
    "    10"
   ]
  },
  {
   "cell_type": "markdown",
   "metadata": {},
   "source": [
    "- Qatar has the lowest mortality rate in the world at 1.53 deaths per 1,000 people. The UAE (1.97), Kuwait (2.8), and Bahrain (2.69) follow behind. These countries are renowned for their improved health care system, technologically advanced facilities, and ability to deliver some of the world's best patient care."
   ]
  },
  {
   "cell_type": "markdown",
   "metadata": {},
   "source": [
    "### Countries with Highest Population vs Area Ratio\n",
    "\n",
    "Let's find the countries with the highest popualtion/area ratio (without considering the global average population and area) and then compare our result with that of countries with highest population density."
   ]
  },
  {
   "cell_type": "code",
   "execution_count": 23,
   "metadata": {
    "collapsed": false,
    "scrolled": true
   },
   "outputs": [
    {
     "name": "stdout",
     "output_type": "stream",
     "text": [
      "Done.\n"
     ]
    },
    {
     "data": {
      "text/html": [
       "<table>\n",
       "    <tr>\n",
       "        <th>name</th>\n",
       "        <th>area</th>\n",
       "        <th>population</th>\n",
       "        <th>pop_density</th>\n",
       "    </tr>\n",
       "    <tr>\n",
       "        <td>Macau</td>\n",
       "        <td>28</td>\n",
       "        <td>592731</td>\n",
       "        <td>21168.96</td>\n",
       "    </tr>\n",
       "    <tr>\n",
       "        <td>Monaco</td>\n",
       "        <td>2</td>\n",
       "        <td>30535</td>\n",
       "        <td>15267.5</td>\n",
       "    </tr>\n",
       "    <tr>\n",
       "        <td>Singapore</td>\n",
       "        <td>697</td>\n",
       "        <td>5674472</td>\n",
       "        <td>8141.28</td>\n",
       "    </tr>\n",
       "    <tr>\n",
       "        <td>Hong Kong</td>\n",
       "        <td>1108</td>\n",
       "        <td>7141106</td>\n",
       "        <td>6445.04</td>\n",
       "    </tr>\n",
       "    <tr>\n",
       "        <td>Gaza Strip</td>\n",
       "        <td>360</td>\n",
       "        <td>1869055</td>\n",
       "        <td>5191.82</td>\n",
       "    </tr>\n",
       "    <tr>\n",
       "        <td>Gibraltar</td>\n",
       "        <td>6</td>\n",
       "        <td>29258</td>\n",
       "        <td>4876.33</td>\n",
       "    </tr>\n",
       "    <tr>\n",
       "        <td>Bahrain</td>\n",
       "        <td>760</td>\n",
       "        <td>1346613</td>\n",
       "        <td>1771.86</td>\n",
       "    </tr>\n",
       "    <tr>\n",
       "        <td>Maldives</td>\n",
       "        <td>298</td>\n",
       "        <td>393253</td>\n",
       "        <td>1319.64</td>\n",
       "    </tr>\n",
       "    <tr>\n",
       "        <td>Malta</td>\n",
       "        <td>316</td>\n",
       "        <td>413965</td>\n",
       "        <td>1310.02</td>\n",
       "    </tr>\n",
       "    <tr>\n",
       "        <td>Bermuda</td>\n",
       "        <td>54</td>\n",
       "        <td>70196</td>\n",
       "        <td>1299.93</td>\n",
       "    </tr>\n",
       "</table>"
      ],
      "text/plain": [
       "[('Macau', 28, 592731, 21168.96),\n",
       " ('Monaco', 2, 30535, 15267.5),\n",
       " ('Singapore', 697, 5674472, 8141.28),\n",
       " ('Hong Kong', 1108, 7141106, 6445.04),\n",
       " ('Gaza Strip', 360, 1869055, 5191.82),\n",
       " ('Gibraltar', 6, 29258, 4876.33),\n",
       " ('Bahrain', 760, 1346613, 1771.86),\n",
       " ('Maldives', 298, 393253, 1319.64),\n",
       " ('Malta', 316, 413965, 1310.02),\n",
       " ('Bermuda', 54, 70196, 1299.93)]"
      ]
     },
     "execution_count": 23,
     "metadata": {},
     "output_type": "execute_result"
    }
   ],
   "source": [
    "%%sql\n",
    "\n",
    "SELECT\n",
    "    name,\n",
    "    area,\n",
    "    population,\n",
    "    ROUND(CAST(population AS Float) / area, 2) AS pop_density\n",
    "FROM \n",
    "    facts\n",
    "WHERE\n",
    "    birth_rate <> 'None'\n",
    "AND\n",
    "    area <> 'None'\n",
    "ORDER BY\n",
    "    pop_density DESC\n",
    "LIMIT\n",
    "    10"
   ]
  },
  {
   "cell_type": "markdown",
   "metadata": {
    "collapsed": true
   },
   "source": [
    "This list is different from the first one (with Bangladesh on top) because in this case, we didn't consider the world average population and area. \n",
    "\n",
    "Notably, all of these locations are tiny. The top five have a combined land area of less than 3,000 km². Moreover, most are also highly urbanized centers of wealth and finance, with a tendency toward cities and skyscrapers rather than rolling fields or vast wilderness areas. "
   ]
  },
  {
   "cell_type": "markdown",
   "metadata": {},
   "source": [
    "# Conclusion\n",
    "\n",
    "Throughout this project, we used the CIA World factbook data to identify the leading and lagging territories of the world. Our analysis is based on demographic indicators like population, mortality, and fertility.\n",
    "\n",
    "Some of the key findings of our analysis are:\n",
    "1. China, India, the United States, Indonesia, and Brazil are the most populated countries accounting for about 46% of the world's population.\n",
    "2. Macau, Monaco, Singapore, and Hong Kong are more densely populated than the rest of the world which is due to their small land area. Considering larger land areas, Bangladesh, South Korea, and Japan are the most densely populated countries.\n",
    "3. African countries have the highest fertility while Europe and Asia have the lowest. Some African countries (Lesotho, Guinea-Bissau) and Eastern European countries (Bulgaria, Lithuania, Serbia) record the highest death rates. The Gulf cooperation countries of the Middle-East record the lowest death rates."
   ]
  },
  {
   "cell_type": "code",
   "execution_count": null,
   "metadata": {
    "collapsed": true
   },
   "outputs": [],
   "source": []
  }
 ],
 "metadata": {
  "kernelspec": {
   "display_name": "Python 3",
   "language": "python",
   "name": "python3"
  },
  "language_info": {
   "codemirror_mode": {
    "name": "ipython",
    "version": 3
   },
   "file_extension": ".py",
   "mimetype": "text/x-python",
   "name": "python",
   "nbconvert_exporter": "python",
   "pygments_lexer": "ipython3",
   "version": "3.4.3"
  }
 },
 "nbformat": 4,
 "nbformat_minor": 2
}
