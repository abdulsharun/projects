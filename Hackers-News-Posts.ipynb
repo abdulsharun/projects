{
 "cells": [
  {
   "cell_type": "markdown",
   "metadata": {
    "collapsed": true
   },
   "source": [
    "## Exploring Hacker News Posts\n",
    "\n",
    "Hacker News is a site where user-submitted stories (known as \"posts\") receive votes and comments, similar to reddit. This project is designed to explore the Hacker News website to compare posts whose titles begin with either `'Ask HN'` or `'Show HN'`. Users submit `'Ask HN'` posts to ask the Hacker News community a specific question and `'Show HN'` posts to show the Hacker News community a project, product, or just something interesting.\n",
    "\n",
    "We'll compare these two types of posts to determine the following:\n",
    "\n",
    "1. Do `'Ask HN'` or `'Show HN'` receive more comments on average?\n",
    "2. Do posts created at a certain time receive more comments on average?\n",
    "\n",
    "By answering the above questions, users will be able to know the type of post that will generate more comments and the best time of the day to make that post.\n",
    "\n",
    "Let's start by importing the libraries we need and reading the dataset into a list of lists. We will also print out the headers row and other rows to have an idea of what is contained in the dataset."
   ]
  },
  {
   "cell_type": "code",
   "execution_count": 1,
   "metadata": {},
   "outputs": [
    {
     "name": "stdout",
     "output_type": "stream",
     "text": [
      "Our header is:\n",
      " ['id', 'title', 'url', 'num_points', 'num_comments', 'author', 'created_at']\n",
      "\n",
      "\n",
      "First 5 rows of dataset for analysis is:\n",
      " [['12224879', 'Interactive Dynamic Video', 'http://www.interactivedynamicvideo.com/', '386', '52', 'ne0phyte', '8/4/2016 11:52'], ['10975351', 'How to Use Open Source and Shut the Fuck Up at the Same Time', 'http://hueniverse.com/2016/01/26/how-to-use-open-source-and-shut-the-fuck-up-at-the-same-time/', '39', '10', 'josep2', '1/26/2016 19:30'], ['11964716', \"Florida DJs May Face Felony for April Fools' Water Joke\", 'http://www.thewire.com/entertainment/2013/04/florida-djs-april-fools-water-joke/63798/', '2', '1', 'vezycash', '6/23/2016 22:20'], ['11919867', 'Technology ventures: From Idea to Enterprise', 'https://www.amazon.com/Technology-Ventures-Enterprise-Thomas-Byers/dp/0073523429', '3', '1', 'hswarna', '6/17/2016 0:01'], ['10301696', 'Note by Note: The Making of Steinway L1037 (2007)', 'http://www.nytimes.com/2007/11/07/movies/07stein.html?_r=0', '8', '2', 'walterbell', '9/30/2015 4:12']]\n"
     ]
    }
   ],
   "source": [
    "from csv import reader \n",
    "\n",
    "opened_file = open('hacker_news.csv')\n",
    "read_file = reader(opened_file)\n",
    "hn = list(read_file)\n",
    "\n",
    "headers = hn[0] # removing the headers row from our dataset\n",
    "print('Our header is:\\n', headers) \n",
    "print('\\n')\n",
    "\n",
    "hn = hn[1:]     # assigning our dataset without headers for analysis\n",
    "print('First 5 rows of dataset for analysis is:\\n',hn[:5])"
   ]
  },
  {
   "cell_type": "markdown",
   "metadata": {},
   "source": [
    "Now, we are going to create a list of lists that contains only the post we are interested in (those starting with`'Ask HN'` and `'Show HN'`). we will do that by using the string method `'startswith'`.\n",
    "\n",
    "But in order not to miss some posts, we will make all our posts' titles to be in lower case."
   ]
  },
  {
   "cell_type": "code",
   "execution_count": 2,
   "metadata": {},
   "outputs": [],
   "source": [
    "ask_posts = []    # list that will contain all posts that begin with `'ask hn''\n",
    "show_posts = []   # list that will contain all posts that begin with `'show hn''\n",
    "other_posts = []    # list that will contain all posts that begin with others\n",
    "\n",
    "for row in hn:\n",
    "    title = row[1]\n",
    "    if title.lower().startswith('ask hn'): # checking the lower case of title to see if it begins with 'ask hn'\n",
    "        ask_posts.append(row)\n",
    "    elif title.lower().startswith('show hn'): # checking the lower case of title to see if it begins with 'show hn'\n",
    "        show_posts.append(row)\n",
    "    else:                          # checking the lower case of title to see if it begins with other characters\n",
    "        other_posts.append(row)\n",
    "        "
   ]
  },
  {
   "cell_type": "markdown",
   "metadata": {},
   "source": [
    "Now, let's check the number of `'ask_posts'`, `'show_posts'` and `'other_posts'`. We will also check the first three elements of each list to make sure we have the correct elements."
   ]
  },
  {
   "cell_type": "code",
   "execution_count": 3,
   "metadata": {},
   "outputs": [
    {
     "name": "stdout",
     "output_type": "stream",
     "text": [
      "The number of ask_posts: 1744\n",
      "The number of show_posts: 1162\n",
      "The number of other_posts: 17194\n",
      "\n",
      "\n",
      "[['12296411', 'Ask HN: How to improve my personal website?', '', '2', '6', 'ahmedbaracat', '8/16/2016 9:55'], ['10610020', 'Ask HN: Am I the only one outraged by Twitter shutting down share counts?', '', '28', '29', 'tkfx', '11/22/2015 13:43'], ['11610310', 'Ask HN: Aby recent changes to CSS that broke mobile?', '', '1', '1', 'polskibus', '5/2/2016 10:14']] \n",
      "\n",
      "[['10627194', 'Show HN: Wio Link  ESP8266 Based Web of Things Hardware Development Platform', 'https://iot.seeed.cc', '26', '22', 'kfihihc', '11/25/2015 14:03'], ['10646440', 'Show HN: Something pointless I made', 'http://dn.ht/picklecat/', '747', '102', 'dhotson', '11/29/2015 22:46'], ['11590768', 'Show HN: Shanhu.io, a programming playground powered by e8vm', 'https://shanhu.io', '1', '1', 'h8liu', '4/28/2016 18:05']] \n",
      "\n",
      "[['12224879', 'Interactive Dynamic Video', 'http://www.interactivedynamicvideo.com/', '386', '52', 'ne0phyte', '8/4/2016 11:52'], ['10975351', 'How to Use Open Source and Shut the Fuck Up at the Same Time', 'http://hueniverse.com/2016/01/26/how-to-use-open-source-and-shut-the-fuck-up-at-the-same-time/', '39', '10', 'josep2', '1/26/2016 19:30'], ['11964716', \"Florida DJs May Face Felony for April Fools' Water Joke\", 'http://www.thewire.com/entertainment/2013/04/florida-djs-april-fools-water-joke/63798/', '2', '1', 'vezycash', '6/23/2016 22:20']]\n"
     ]
    }
   ],
   "source": [
    "print('The number of ask_posts:', len(ask_posts))\n",
    "print('The number of show_posts:', len(show_posts))\n",
    "print('The number of other_posts:', len(other_posts))\n",
    "print('\\n')\n",
    "\n",
    "print(ask_posts[:3], '\\n')\n",
    "print(show_posts[:3], '\\n')\n",
    "print(other_posts[:3])"
   ]
  },
  {
   "cell_type": "markdown",
   "metadata": {},
   "source": [
    "Since we are interested in only `'ask_posts'` and `'show_posts'`, we will drop the `'other_posts'` list going ahead. "
   ]
  },
  {
   "cell_type": "markdown",
   "metadata": {},
   "source": [
    "### Average Comments per Post\n",
    "\n",
    "Let's determine if `'ask_posts'` or `'show_posts'` receive more comments on average."
   ]
  },
  {
   "cell_type": "code",
   "execution_count": 4,
   "metadata": {},
   "outputs": [
    {
     "name": "stdout",
     "output_type": "stream",
     "text": [
      "The average number of comments on ask_posts is: 14.038417431192661 \n",
      "\n",
      "The average number of comments on show_posts is: 10.31669535283993\n"
     ]
    }
   ],
   "source": [
    "total_ask_comments = 0 \n",
    "total = 0       # to calculate number of iteration for average\n",
    "\n",
    "for row in ask_posts:\n",
    "    num_comments = int(row[4])\n",
    "    total_ask_comments += num_comments\n",
    "    total += 1\n",
    "avg_ask_comments = total_ask_comments / total\n",
    "print('The average number of comments on ask_posts is:', avg_ask_comments, '\\n')\n",
    "\n",
    "total_show_comments = 0 \n",
    "total = 0       # to calculate number of iteration for average\n",
    "\n",
    "for row in show_posts:\n",
    "    num_comments = int(row[4])\n",
    "    total_show_comments += num_comments\n",
    "    total += 1\n",
    "avg_show_comments = total_show_comments / total\n",
    "print('The average number of comments on show_posts is:', avg_show_comments)\n",
    "\n"
   ]
  },
  {
   "cell_type": "markdown",
   "metadata": {},
   "source": [
    "From the findings, we can see that `'ask_posts'` has more comments on average with 14 comments on posts than the 10 comments on `'show_posts`'. \n",
    "\n",
    "Since the `'ask_posts`' are more likely to receive comments, we will focus our remaining analysis on them."
   ]
  },
  {
   "cell_type": "markdown",
   "metadata": {},
   "source": [
    "### Average Comments on `'Ask HN'` Posts per Time \n",
    "\n",
    "Next, we'll determine if ask posts created at a certain time of the day are more likely to attract comments. We'll use the following steps to perform this analysis:\n",
    "\n",
    "1. Calculate the number of `'ask posts'` created in each hour of the day, along with the number of comments received.\n",
    "2. Calculate the average number of comments `'ask posts'` receive by hour created.\n",
    "\n",
    "Let's calculate the number of `'ask_posts'` and comments by hour created using the [`'datetime'` module](https://docs.python.org/3/library/datetime.html)."
   ]
  },
  {
   "cell_type": "code",
   "execution_count": 5,
   "metadata": {},
   "outputs": [
    {
     "name": "stdout",
     "output_type": "stream",
     "text": [
      "The number of ask_posts in each hour:\n",
      " {'09': 45, '13': 85, '10': 59, '14': 107, '16': 108, '23': 68, '12': 73, '17': 100, '15': 116, '21': 109, '20': 80, '02': 58, '18': 109, '03': 54, '05': 46, '19': 110, '01': 60, '22': 71, '08': 48, '04': 47, '00': 55, '06': 44, '07': 34, '11': 58} \n",
      "\n",
      "The number of comments in each hour:\n",
      " {'09': 251, '13': 1253, '10': 793, '14': 1416, '16': 1814, '23': 543, '12': 687, '17': 1146, '15': 4477, '21': 1745, '20': 1722, '02': 1381, '18': 1439, '03': 421, '05': 464, '19': 1188, '01': 683, '22': 479, '08': 492, '04': 337, '00': 447, '06': 397, '07': 267, '11': 641}\n"
     ]
    }
   ],
   "source": [
    "import datetime as dt\n",
    "\n",
    "result_list = [] # a list that will contain the date and number of comments\n",
    "\n",
    "for row in ask_posts:\n",
    "    created_at = row[6]\n",
    "    num_comments = int(row[4])\n",
    "    result_list.append([created_at, num_comments]) \n",
    "    \n",
    "counts_by_hour = {}      # dictionary that will hold the number of 'ask posts' per hour\n",
    "comments_by_hour = {}    # dictionary that will hold the number of comments per hour\n",
    "\n",
    "for row in result_list:\n",
    "    date = row[0]\n",
    "    comment_num = int(row[1])\n",
    "    date_dt = dt.datetime.strptime(date, \"%m/%d/%Y %H:%M\") # making the date column to be a datetime object\n",
    "    hour = date_dt.strftime(\"%H\") # Extracting the hour of that datetime object\n",
    "    \n",
    "    if hour not in counts_by_hour:\n",
    "        counts_by_hour[hour] = 1\n",
    "        comments_by_hour[hour] = comment_num \n",
    "    else: \n",
    "        counts_by_hour[hour] += 1\n",
    "        comments_by_hour[hour] += comment_num\n",
    "        \n",
    "print('The number of ask_posts in each hour:\\n', counts_by_hour, '\\n')  \n",
    "print('The number of comments in each hour:\\n', comments_by_hour)    "
   ]
  },
  {
   "cell_type": "markdown",
   "metadata": {},
   "source": [
    "Next, we'll use these two dictionaries to calculate the average number of comments for posts created during each hour of the day."
   ]
  },
  {
   "cell_type": "code",
   "execution_count": 6,
   "metadata": {},
   "outputs": [
    {
     "name": "stdout",
     "output_type": "stream",
     "text": [
      "Average number of comments per post by hour:\n"
     ]
    },
    {
     "data": {
      "text/plain": [
       "[['09', 5.5777777777777775],\n",
       " ['13', 14.741176470588234],\n",
       " ['10', 13.440677966101696],\n",
       " ['14', 13.233644859813085],\n",
       " ['16', 16.796296296296298],\n",
       " ['23', 7.985294117647059],\n",
       " ['12', 9.41095890410959],\n",
       " ['17', 11.46],\n",
       " ['15', 38.5948275862069],\n",
       " ['21', 16.009174311926607],\n",
       " ['20', 21.525],\n",
       " ['02', 23.810344827586206],\n",
       " ['18', 13.20183486238532],\n",
       " ['03', 7.796296296296297],\n",
       " ['05', 10.08695652173913],\n",
       " ['19', 10.8],\n",
       " ['01', 11.383333333333333],\n",
       " ['22', 6.746478873239437],\n",
       " ['08', 10.25],\n",
       " ['04', 7.170212765957447],\n",
       " ['00', 8.127272727272727],\n",
       " ['06', 9.022727272727273],\n",
       " ['07', 7.852941176470588],\n",
       " ['11', 11.051724137931034]]"
      ]
     },
     "execution_count": 6,
     "metadata": {},
     "output_type": "execute_result"
    }
   ],
   "source": [
    "avg_by_hour = [] # a list that will contain the hour and average comments per post in that hour\n",
    "\n",
    "for hour in comments_by_hour:\n",
    "    average = comments_by_hour[hour] / counts_by_hour[hour]\n",
    "    avg_by_hour.append([hour, average])\n",
    "    \n",
    "print('Average number of comments per post by hour:')\n",
    "avg_by_hour"
   ]
  },
  {
   "cell_type": "markdown",
   "metadata": {},
   "source": [
    "Although we now have the results we need, this format makes it difficult to identify the hours with the highest values. Let's finish by sorting the list of lists and printing the five highest values in a format that's easier to read."
   ]
  },
  {
   "cell_type": "code",
   "execution_count": 7,
   "metadata": {},
   "outputs": [
    {
     "data": {
      "text/plain": [
       "[[5.5777777777777775, '09'],\n",
       " [14.741176470588234, '13'],\n",
       " [13.440677966101696, '10'],\n",
       " [13.233644859813085, '14'],\n",
       " [16.796296296296298, '16'],\n",
       " [7.985294117647059, '23'],\n",
       " [9.41095890410959, '12'],\n",
       " [11.46, '17'],\n",
       " [38.5948275862069, '15'],\n",
       " [16.009174311926607, '21'],\n",
       " [21.525, '20'],\n",
       " [23.810344827586206, '02'],\n",
       " [13.20183486238532, '18'],\n",
       " [7.796296296296297, '03'],\n",
       " [10.08695652173913, '05'],\n",
       " [10.8, '19'],\n",
       " [11.383333333333333, '01'],\n",
       " [6.746478873239437, '22'],\n",
       " [10.25, '08'],\n",
       " [7.170212765957447, '04'],\n",
       " [8.127272727272727, '00'],\n",
       " [9.022727272727273, '06'],\n",
       " [7.852941176470588, '07'],\n",
       " [11.051724137931034, '11']]"
      ]
     },
     "execution_count": 7,
     "metadata": {},
     "output_type": "execute_result"
    }
   ],
   "source": [
    "swap_avg_by_hour = []\n",
    "for row in avg_by_hour:\n",
    "    swap_avg_by_hour.append([row[1], row[0]]) # interchanging rows and columns for sorting\n",
    "    \n",
    "swap_avg_by_hour   "
   ]
  },
  {
   "cell_type": "markdown",
   "metadata": {},
   "source": [
    "In the above cell, we swapped our columns in the `'avg_by_hour'` so that number of comments becomes the first element to make sure that we sort by the highest number of comments. We then use `'sorted()'` function to do the sorting as shown below: "
   ]
  },
  {
   "cell_type": "code",
   "execution_count": 8,
   "metadata": {},
   "outputs": [
    {
     "data": {
      "text/plain": [
       "[[38.5948275862069, '15'],\n",
       " [23.810344827586206, '02'],\n",
       " [21.525, '20'],\n",
       " [16.796296296296298, '16'],\n",
       " [16.009174311926607, '21'],\n",
       " [14.741176470588234, '13'],\n",
       " [13.440677966101696, '10'],\n",
       " [13.233644859813085, '14'],\n",
       " [13.20183486238532, '18'],\n",
       " [11.46, '17'],\n",
       " [11.383333333333333, '01'],\n",
       " [11.051724137931034, '11'],\n",
       " [10.8, '19'],\n",
       " [10.25, '08'],\n",
       " [10.08695652173913, '05'],\n",
       " [9.41095890410959, '12'],\n",
       " [9.022727272727273, '06'],\n",
       " [8.127272727272727, '00'],\n",
       " [7.985294117647059, '23'],\n",
       " [7.852941176470588, '07'],\n",
       " [7.796296296296297, '03'],\n",
       " [7.170212765957447, '04'],\n",
       " [6.746478873239437, '22'],\n",
       " [5.5777777777777775, '09']]"
      ]
     },
     "execution_count": 8,
     "metadata": {},
     "output_type": "execute_result"
    }
   ],
   "source": [
    "sorted_swap = sorted(swap_avg_by_hour, reverse = True) \n",
    "\n",
    "sorted_swap"
   ]
  },
  {
   "cell_type": "markdown",
   "metadata": {},
   "source": [
    "#### Top 5 Hours for `'Ask Posts'` Comments\n",
    "So now let's see the top 5 hours with the highest number of comments."
   ]
  },
  {
   "cell_type": "code",
   "execution_count": 9,
   "metadata": {},
   "outputs": [
    {
     "name": "stdout",
     "output_type": "stream",
     "text": [
      "Top 5 Hours for Ask Posts Comments\n",
      "\n",
      "15: 38.59 average comments per post.\n",
      "02: 23.81 average comments per post.\n",
      "20: 21.52 average comments per post.\n",
      "16: 16.80 average comments per post.\n",
      "21: 16.01 average comments per post.\n"
     ]
    }
   ],
   "source": [
    "print('Top 5 Hours for Ask Posts Comments\\n')\n",
    "\n",
    "for row in sorted_swap[:5]:\n",
    "    avg_comment = row[0]\n",
    "    hr = row[1]\n",
    "    hr_dt = dt.datetime.strptime(hr,'%H')\n",
    "    hr_final = hr_dt.strftime('%H')\n",
    "    print('{}: {:.2f} average comments per post.'.format(hr_final, avg_comment))"
   ]
  },
  {
   "cell_type": "markdown",
   "metadata": {},
   "source": [
    "Thus from the above findings, it has been shown that **15:00** has the highest average comments per post (with **38.59** average comments per post) and that any post made between 15:00 and 21:00 will have higher chance of receiving more comments."
   ]
  },
  {
   "cell_type": "markdown",
   "metadata": {},
   "source": [
    "## Conclusion\n",
    "\n",
    "In conclusion, this project answers two questions:\n",
    "\n",
    "1. **Do 'Ask HN' or 'Show HN' receive more comments on average?**\n",
    "\n",
    "Answer: From the findings, 'Ask HN' posts generate more comments with an average of 14 comments per post while 'Show HN' posts have an average of 10 comments per post.\n",
    "\n",
    "2. **Do posts created at a certain time receive more comments on average?**\n",
    "\n",
    "Answer: From the findings, the best hour with average number of comments is 15:00 or 16:00 WAT. Thus, it is the best time for users to create 'Ask HN' posts to have more comments. In summary, here is a table that lists the top 5 hours for ask posts comments.\n",
    "\n",
    "|Hour| Average Comment per Post|\n",
    "|---|---|\n",
    "|15|38.59|\n",
    "|02 | 23.81|\n",
    "|20| 21.52| \n",
    "|16| 16.80| \n",
    "|21| 16.01| \n"
   ]
  }
 ],
 "metadata": {
  "kernelspec": {
   "display_name": "Python 3",
   "language": "python",
   "name": "python3"
  },
  "language_info": {
   "codemirror_mode": {
    "name": "ipython",
    "version": 3
   },
   "file_extension": ".py",
   "mimetype": "text/x-python",
   "name": "python",
   "nbconvert_exporter": "python",
   "pygments_lexer": "ipython3",
   "version": "3.8.2"
  }
 },
 "nbformat": 4,
 "nbformat_minor": 2
}
